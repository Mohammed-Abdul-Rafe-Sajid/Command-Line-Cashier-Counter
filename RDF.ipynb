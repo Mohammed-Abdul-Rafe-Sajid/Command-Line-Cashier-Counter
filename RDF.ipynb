{
  "cells": [
    {
      "cell_type": "markdown",
      "source": [
        "# COMMAND LINE CASHIER COUNTER"
      ],
      "metadata": {
        "id": "-Jnwefh0nvZ8"
      }
    },
    {
      "cell_type": "code",
      "execution_count": 1,
      "metadata": {
        "colab": {
          "base_uri": "https://localhost:8080/"
        },
        "id": "ceDr-HoekwGQ",
        "outputId": "4c417fc0-af2c-4856-e7c7-f8a83cccf878"
      },
      "outputs": [
        {
          "output_type": "stream",
          "name": "stdout",
          "text": [
            "***WELCOME TO RAFEEQ DAIRY FARM***\n",
            "\n",
            "ITEMS    PRICES\n",
            "a.milk          100\n",
            "b.curd(sweet)   80\n",
            "c.curd(sour)    60\n",
            "d.khowa         320 \n",
            "e.ghee          560\n",
            "f.cream         200\n",
            "\n",
            "how many items do you need: 1\n",
            "\n",
            "enter the code of item you want: a\n",
            "enter the number of litres or kgs you want: 9\n",
            "\n",
            "the total amount for 1 items is 900.0 rupees\n",
            "\n",
            "thanks for shopping with RDF\n"
          ]
        }
      ],
      "source": [
        "#COUNTER\n",
        "print(\"***WELCOME TO RAFEEQ DAIRY FARM***\")\n",
        "print()\n",
        "print(\"ITEMS    PRICES\\na.milk          100\\nb.curd(sweet)   80\\nc.curd(sour)    60\\nd.khowa         320 \\ne.ghee          560\\nf.cream         200\")\n",
        "print()\n",
        "def shop():\n",
        " item=input(\"enter the code of item you want: \")\n",
        " hm=float(input(\"enter the number of litres or kgs you want: \"))\n",
        " print()\n",
        " if item==\"a\":\n",
        "   m=hm*100\n",
        " elif item==\"b\":\n",
        "   m=hm*80\n",
        " elif item==\"c\":\n",
        "   m=hm*60\n",
        " elif item==\"d\":\n",
        "   m=hm*3200\n",
        " elif item==\"e\":\n",
        "   m=hm*560\n",
        " elif item==\"f\":\n",
        "   m=hm*200\n",
        " else:\n",
        "   print(\"invalid code\")\n",
        " return m\n",
        "n=int(input(\"how many items do you need: \"))\n",
        "lst=[]\n",
        "print()\n",
        "for i in range(n):\n",
        "  lst.append(shop())\n",
        "print(f\"the total amount for {n} items is {sum(lst)} rupees\")\n",
        "print()\n",
        "print(\"thanks for shopping with RDF\")\n",
        "\n"
      ]
    }
  ],
  "metadata": {
    "colab": {
      "provenance": []
    },
    "kernelspec": {
      "display_name": "Python 3",
      "name": "python3"
    },
    "language_info": {
      "name": "python"
    }
  },
  "nbformat": 4,
  "nbformat_minor": 0
}